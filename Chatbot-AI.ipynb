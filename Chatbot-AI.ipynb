{
 "cells": [
  {
   "cell_type": "code",
   "execution_count": 1,
   "metadata": {},
   "outputs": [
    {
     "name": "stdout",
     "output_type": "stream",
     "text": [
      "curses is not supported on this machine (please install/reinstall curses for an optimal experience)\n",
      "WARNING:tensorflow:From C:\\Users\\Rohit\\Anaconda3\\lib\\site-packages\\tflearn\\helpers\\summarizer.py:9: The name tf.summary.merge is deprecated. Please use tf.compat.v1.summary.merge instead.\n",
      "\n",
      "WARNING:tensorflow:From C:\\Users\\Rohit\\Anaconda3\\lib\\site-packages\\tflearn\\helpers\\trainer.py:25: The name tf.summary.FileWriter is deprecated. Please use tf.compat.v1.summary.FileWriter instead.\n",
      "\n",
      "WARNING:tensorflow:From C:\\Users\\Rohit\\Anaconda3\\lib\\site-packages\\tflearn\\collections.py:13: The name tf.GraphKeys is deprecated. Please use tf.compat.v1.GraphKeys instead.\n",
      "\n",
      "WARNING:tensorflow:From C:\\Users\\Rohit\\Anaconda3\\lib\\site-packages\\tflearn\\config.py:123: The name tf.get_collection is deprecated. Please use tf.compat.v1.get_collection instead.\n",
      "\n",
      "WARNING:tensorflow:From C:\\Users\\Rohit\\Anaconda3\\lib\\site-packages\\tflearn\\config.py:129: The name tf.add_to_collection is deprecated. Please use tf.compat.v1.add_to_collection instead.\n",
      "\n",
      "WARNING:tensorflow:From C:\\Users\\Rohit\\Anaconda3\\lib\\site-packages\\tflearn\\config.py:131: The name tf.assign is deprecated. Please use tf.compat.v1.assign instead.\n",
      "\n"
     ]
    }
   ],
   "source": [
    "import nltk\n",
    "from nltk.stem.lancaster import LancasterStemmer\n",
    "import numpy\n",
    "import json\n",
    "import random\n",
    "import tensorflow\n",
    "import tflearn\n",
    "import pickle"
   ]
  },
  {
   "cell_type": "code",
   "execution_count": 3,
   "metadata": {},
   "outputs": [],
   "source": [
    "stemm = LancasterStemmer()\n",
    "\n",
    "with open(\"index.json\") as files:\n",
    "    data = json.load(files)\n",
    "\n",
    "# try:\n",
    "#     with open(\"data.pickle\", \"rb\") as f:\n",
    "#         words,labels,training,output = pickle.load(f) \n",
    "# except:\n",
    "\n",
    "words = []\n",
    "labels = []\n",
    "docs_x = []\n",
    "docs_y = []\n",
    "\n",
    "for question in data[\"questions\"]:\n",
    "    for pattern in question[\"patterns\"]:\n",
    "#         token_word = nltk.wordpunct_tokenize(pattern)\n",
    "        words.append(pattern)\n",
    "        docs_x.append(pattern)\n",
    "        docs_y.append(question[\"tag\"])\n",
    "\n",
    "    if question[\"tag\"] not in labels:\n",
    "        labels.append(question[\"tag\"])\n",
    "\n",
    "words = [stemm.stem(w.lower()) for w in words]\n",
    "# docs_x = [stemm.stem(d.lower()) for d in docs_x]\n",
    "# words = sorted(list(set(words)))\n",
    "\n",
    "training = []\n",
    "output = []\n",
    "\n",
    "out_empty = [0 for _ in range(len(labels))]\n",
    "\n",
    "for x, doc in enumerate(docs_x):\n",
    "    bag = []\n",
    "    token_word = [stemm.stem(w.lower()) for w in doc]\n",
    "    for w in words:\n",
    "        if w in token_word:\n",
    "            bag.append(1)\n",
    "        else:\n",
    "            bag.append(0)\n",
    "\n",
    "    output_row = out_empty[:]\n",
    "    output_row[labels.index(docs_y[x])] = 1\n",
    "    training.append(bag)\n",
    "    output.append(output_row)\n",
    "\n",
    "training = numpy.array(training)\n",
    "output = numpy.array(output)\n",
    "# with open(\"data.pickle\", \"wb\") as f:\n",
    "#     pickle.dump((words,labels,training,output), f)\n",
    "\n",
    "tensorflow.reset_default_graph()\n",
    "net = tflearn.input_data(shape=[None, len(training[0])])\n",
    "net = tflearn.fully_connected(net, 8)\n",
    "net = tflearn.fully_connected(net, 8)\n",
    "net = tflearn.fully_connected(net, len(output[0]), activation = \"softmax\")\n",
    "net = tflearn.regression(net)\n",
    "\n",
    "model = tflearn.DNN(net)\n",
    "# model.load(\"model7.tflearn\")"
   ]
  },
  {
   "cell_type": "code",
   "execution_count": 4,
   "metadata": {},
   "outputs": [
    {
     "data": {
      "text/plain": [
       "['hi',\n",
       " 'hey',\n",
       " 'hello',\n",
       " 'morn',\n",
       " 'afternoon',\n",
       " 'ev',\n",
       " 'night',\n",
       " 'bot',\n",
       " 'ai',\n",
       " 'robot',\n",
       " 'ticket',\n",
       " 'apply',\n",
       " 'movy',\n",
       " 'movy',\n",
       " 'ticket',\n",
       " 'cinem',\n",
       " 'cinema']"
      ]
     },
     "execution_count": 4,
     "metadata": {},
     "output_type": "execute_result"
    }
   ],
   "source": [
    "words"
   ]
  },
  {
   "cell_type": "code",
   "execution_count": 4,
   "metadata": {},
   "outputs": [
    {
     "data": {
      "text/plain": [
       "['hi',\n",
       " 'hey',\n",
       " 'hello',\n",
       " 'morning',\n",
       " 'afternoon',\n",
       " 'evening',\n",
       " 'night',\n",
       " 'bot',\n",
       " 'AI',\n",
       " 'robot',\n",
       " 'ticket',\n",
       " 'apply',\n",
       " 'movie',\n",
       " 'movies',\n",
       " 'tickets',\n",
       " 'cinema',\n",
       " 'cinemas']"
      ]
     },
     "execution_count": 4,
     "metadata": {},
     "output_type": "execute_result"
    }
   ],
   "source": [
    "docs_x"
   ]
  },
  {
   "cell_type": "code",
   "execution_count": 5,
   "metadata": {},
   "outputs": [
    {
     "data": {
      "text/plain": [
       "['greeting',\n",
       " 'greeting',\n",
       " 'greeting',\n",
       " 'wish',\n",
       " 'wish',\n",
       " 'wish',\n",
       " 'wish',\n",
       " 'chatbot',\n",
       " 'chatbot',\n",
       " 'chatbot',\n",
       " 'about',\n",
       " 'about',\n",
       " 'about',\n",
       " 'about',\n",
       " 'about',\n",
       " 'about',\n",
       " 'about']"
      ]
     },
     "execution_count": 5,
     "metadata": {},
     "output_type": "execute_result"
    }
   ],
   "source": [
    "docs_y"
   ]
  },
  {
   "cell_type": "code",
   "execution_count": 6,
   "metadata": {},
   "outputs": [
    {
     "data": {
      "text/plain": [
       "['c', 'i', 'n', 'e', 'm', 'a', 's']"
      ]
     },
     "execution_count": 6,
     "metadata": {},
     "output_type": "execute_result"
    }
   ],
   "source": [
    " token_word"
   ]
  },
  {
   "cell_type": "code",
   "execution_count": 6,
   "metadata": {},
   "outputs": [
    {
     "name": "stdout",
     "output_type": "stream",
     "text": [
      "Training Step: 6299  | total loss: \u001b[1m\u001b[32m1.31779\u001b[0m\u001b[0m | time: 0.005s\n",
      "| Adam | epoch: 2100 | loss: 1.31779 - acc: 0.4403 -- iter: 16/17\n",
      "Training Step: 6300  | total loss: \u001b[1m\u001b[32m1.28964\u001b[0m\u001b[0m | time: 0.008s\n",
      "| Adam | epoch: 2100 | loss: 1.28964 - acc: 0.4963 -- iter: 17/17\n",
      "--\n",
      "INFO:tensorflow:C:\\Users\\Rohit\\Desktop\\Hied Projects\\Chanakya-webapp\\Chatbot\\model9.tflearn is not in all_model_checkpoint_paths. Manually adding it.\n"
     ]
    }
   ],
   "source": [
    "model.fit(training, output, n_epoch=1500, batch_size = 8 , show_metric=True)\n",
    "model.save(\"model9.tflearn\")"
   ]
  },
  {
   "cell_type": "code",
   "execution_count": 7,
   "metadata": {},
   "outputs": [],
   "source": [
    "def user_bag_conversion(s, words):\n",
    "    bag = [0 for _ in range(len(words))]\n",
    "    \n",
    "    s_words = nltk.wordpunct_tokenize(s)\n",
    "    s_words = [stemm.stem(word.lower()) for word in s_words]\n",
    "    \n",
    "    for se in s_words:\n",
    "        for i, w in enumerate(words):\n",
    "            if w == se:\n",
    "                bag[i] = 1\n",
    "                \n",
    "    return numpy.array(bag)"
   ]
  },
  {
   "cell_type": "code",
   "execution_count": null,
   "metadata": {},
   "outputs": [
    {
     "name": "stdout",
     "output_type": "stream",
     "text": [
      "How can i help you..?\n",
      "You: Hi\n",
      "about\n",
      "You can check out some of the movie ticket websites here\n",
      "You: movies\n",
      "about\n",
      "You can check out some of the movie ticket websites here\n"
     ]
    }
   ],
   "source": [
    "def front():\n",
    "    \n",
    "    while True:\n",
    "        user = input(\"You: \")\n",
    "        if user.lower() == \"quit\":\n",
    "            break\n",
    "            \n",
    "        results = model.predict([user_bag_conversion(user, words)])\n",
    "        results_index = numpy.argmax(results)\n",
    "        tag = labels[results_index]\n",
    "        print(tag)\n",
    "        \n",
    "        for tg in data['questions']:\n",
    "            if tg['tag'] == tag:\n",
    "                responses = tg['response']\n",
    "                \n",
    "        print(random.choice(responses))\n",
    "\n",
    "print(\"How can i help you..?\")        \n",
    "front()"
   ]
  },
  {
   "cell_type": "code",
   "execution_count": null,
   "metadata": {},
   "outputs": [],
   "source": []
  }
 ],
 "metadata": {
  "kernelspec": {
   "display_name": "Python 3",
   "language": "python",
   "name": "python3"
  },
  "language_info": {
   "codemirror_mode": {
    "name": "ipython",
    "version": 3
   },
   "file_extension": ".py",
   "mimetype": "text/x-python",
   "name": "python",
   "nbconvert_exporter": "python",
   "pygments_lexer": "ipython3",
   "version": "3.7.4"
  }
 },
 "nbformat": 4,
 "nbformat_minor": 2
}
